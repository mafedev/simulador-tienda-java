{
 "cells": [
  {
   "cell_type": "markdown",
   "id": "0a8cb045",
   "metadata": {},
   "source": [
    "# Tablas"
   ]
  },
  {
   "cell_type": "markdown",
   "id": "ee1422d2",
   "metadata": {},
   "source": [
    "### Categoría\n",
    "\n",
    "1. Intrumentos de cuerda\n",
    "    - guitarras\n",
    "    - bajos\n",
    "    - violines\n",
    "    - ukeleles\n",
    "2. Instrumentos de percusión\n",
    "    - Baterias\n",
    "    - Cajones\n",
    "    - Platillos\n",
    "    - Congas\n",
    "3. Teclados y Electrónicos\n",
    "    - Pianos digitles\n",
    "    - Teclados\n",
    "    - Accesorios\n",
    "4. Instrumentos de Viento\n",
    "    - Viento madera\n",
    "        - flautas\n",
    "        - Clarinetes\n",
    "        - Saxofones\n",
    "    - Viento metal\n",
    "        - Trompetas\n",
    "        - Trombones\n",
    "        - Tubas\n",
    "    - Accesorios\n",
    "5. Accesorios\n",
    "    - Calbes\n",
    "    - Fundas\n",
    "    - Afinadores\n",
    "    - Limpieza y mantenimiento\n",
    "6. Libros y Partituras\n",
    "    - Teoría musical\n",
    "\n",
    "    \n"
   ]
  },
  {
   "cell_type": "code",
   "execution_count": null,
   "id": "624838da",
   "metadata": {
    "vscode": {
     "languageId": "plaintext"
    }
   },
   "outputs": [],
   "source": [
    "CREATE TABLE categorias (\n",
    "    id INT PRIMARY KEY NOT NULL AUTO_INCREMENT,\n",
    "    nombre VARCHAR(100) NOT NULL\n",
    ");"
   ]
  },
  {
   "cell_type": "code",
   "execution_count": null,
   "id": "009f834a",
   "metadata": {
    "vscode": {
     "languageId": "plaintext"
    }
   },
   "outputs": [],
   "source": [
    "INSERT INTO categorias (id, nombre) VALUES\n",
    "(1, \"Instrumentos de cuerda\"),\n",
    "(2, \"Instrumentos de percusión\"),\n",
    "(3, \"Teclados y Electrónicos\"),\n",
    "(4, \"Instrumentos de viento\"),\n",
    "(5, \"Accesorios\"),\n",
    "(6, \"Libros y Partituras\");"
   ]
  },
  {
   "cell_type": "markdown",
   "id": "b49c1930",
   "metadata": {},
   "source": [
    "### Subcategorías"
   ]
  },
  {
   "cell_type": "code",
   "execution_count": null,
   "id": "2994f6d6",
   "metadata": {
    "vscode": {
     "languageId": "plaintext"
    }
   },
   "outputs": [],
   "source": [
    "CREATE TABLE subcategorias (\n",
    "    id INT PRIMARY KEY NOT NULL AUTO_INCREMENT,\n",
    "    nombre VARCHAR(100) NOT NULL,\n",
    "    categoria_id INT NOT NULL,\n",
    "    FOREIGN KEY (categoria_id) REFERENCES categorias(id)\n",
    ");"
   ]
  },
  {
   "cell_type": "code",
   "execution_count": null,
   "id": "199d96e3",
   "metadata": {
    "vscode": {
     "languageId": "plaintext"
    }
   },
   "outputs": [],
   "source": [
    "INSERT INTO subcategorias (id, nombre, categoria_id) VALUES\n",
    "(1, 'Cuerda frotada', 1),\n",
    "(2, 'Cuerda pulsada', 1),\n",
    "(3, 'Cuerda percutida', 1),\n",
    "\n",
    "(4, 'Percusión afinada', 2),\n",
    "(5, 'Percusión no afinada', 2),\n",
    "(6, 'Percusión corporal', 2),\n",
    "\n",
    "(7, 'Teclados', 3),\n",
    "(8, 'Sintetizadores', 3),\n",
    "(9, 'Controladores MIDI', 3),\n",
    "\n",
    "(10, 'Viento madera', 4),\n",
    "(11, 'Viento metal', 4),\n",
    "\n",
    "(12, 'Accesorios para cuerda', 5),\n",
    "(13, 'Accesorios para viento', 5),\n",
    "(14, 'Accesorios para percusión', 5),\n",
    "(15, 'Accesorios electrónicos', 5),\n",
    "\n",
    "(16, 'Partituras por instrumento', 6),\n",
    "(17, 'Métodos de aprendizaje', 6),\n",
    "(18, 'Teoría musical', 6);"
   ]
  },
  {
   "cell_type": "markdown",
   "id": "bdfdf269",
   "metadata": {},
   "source": [
    "### Productos"
   ]
  },
  {
   "cell_type": "code",
   "execution_count": null,
   "id": "15513e6f",
   "metadata": {},
   "outputs": [],
   "source": [
    "CREATE TABLE productos (\n",
    "    id INT PRIMARY KEY NOT NULL AUTO_INCREMENT,\n",
    "    nombre VARCHAR(100) NOT NULL,\n",
    "    descripcion TEXT,\n",
    "    categoria_id INT,\n",
    "    subcategoria_id INT,\n",
    "    precio DOUBLE,\n",
    "    cantidad INT,\n",
    "    FOREIGN KEY (categoria_id) REFERENCES categorias(id),\n",
    "    FOREIGN KEY (subcategoria_id) REFERENCES subcategorias(id)\n",
    ");"
   ]
  },
  {
   "cell_type": "code",
   "execution_count": null,
   "id": "68cfe840",
   "metadata": {
    "vscode": {
     "languageId": "plaintext"
    }
   },
   "outputs": [],
   "source": [
    "INSERT INTO productos (id, nombre, descripcion, categoria_id, subcategoria_id, precio, cantidad) VALUES\n",
    "(1, \"Guitarra Clásica\", \"Guitarra clásica de madera con cuerdas de nailon\", 1, 2, 701.00, 20),\n",
    "(2, \"Bajo Eléctrico\", \"Bajo de 4 cuerdas con ecualizador activo\", 1, 2, 450.00, 10),\n",
    "(3, \"Violín Estudiantil\", \"Violín con estuche, arco y colofonia\", 1, 1, 250.00, 15),\n",
    "(4, \"Ukelele Soprano\", \"Ukelele de caoba con funda incluida\", 1, 2, 85.00, 8),\n",
    "(5, \"Batería Acústica\", \"Batería completa con platillos\", 2, 5, 999.99, 5),\n",
    "(6, \"Cajón Flamenco\", \"Cajón de madera para percusión\", 2, 6, 150.00, 12),\n",
    "(7, \"Teclado Yamaha\", \"Teclado de 61 teclas con sonidos integrados\", 3, 7, 320.00, 7),\n",
    "(8, \"Saxofón Alto\", \"Saxofón de latón dorado con estuche\", 4, 10, 699.00, 4),\n",
    "(9, \"Trompeta Plateada\", \"Trompeta profesional con pistones suaves\", 4, 11, 499.00, 6),\n",
    "(10, \"Cables de audio\", \"Pack de 3 cables de audio TRS\", 5, 15, 19.99, 30),\n",
    "(11, \"Teoría Musical Básica\", \"Libro introductorio a la teoría musical\", 6, 18, 22.00, 10);"
   ]
  },
  {
   "cell_type": "markdown",
   "id": "53423ec9",
   "metadata": {},
   "source": [
    "### Pedidos"
   ]
  },
  {
   "cell_type": "code",
   "execution_count": null,
   "id": "1e08b6b1",
   "metadata": {
    "vscode": {
     "languageId": "plaintext"
    }
   },
   "outputs": [],
   "source": [
    "CREATE TABLE pedidos (\n",
    "    id INT PRIMARY KEY NOT NULL,\n",
    "    cliente_id INT,\n",
    "    fecha DATE,\n",
    "    estado BOOLEAN,\n",
    "    total DOUBLE,\n",
    "    FOREIGN KEY cliente_idq REFERENCES clientes(cliente_id)\n",
    ");"
   ]
  },
  {
   "cell_type": "markdown",
   "id": "d268bc9c",
   "metadata": {},
   "source": [
    "## Ventas"
   ]
  },
  {
   "cell_type": "markdown",
   "id": "78074833",
   "metadata": {},
   "source": []
  },
  {
   "cell_type": "code",
   "execution_count": null,
   "id": "31256d95",
   "metadata": {
    "vscode": {
     "languageId": "plaintext"
    }
   },
   "outputs": [],
   "source": [
    "CREATE TABLE ventas (\n",
    "    id INT PRIMARY KEY AUTO_INCREMENT,\n",
    "    producto_id INT NOT NULL,\n",
    "    cantidad INT NOT NULL,\n",
    "    total DOUBLE NOT NULL,\n",
    "    FOREIGN KEY (producto_id) REFERENCES productos(id)\n",
    ");"
   ]
  },
  {
   "cell_type": "markdown",
   "id": "eb99a636",
   "metadata": {},
   "source": [
    "---\n",
    "\n",
    "## Acciones menú\n",
    "\n",
    "1. Comprar producto\n",
    "2. Añadir producto\n",
    "3. Iniciar sesión\n",
    "4. Devolver producto\n",
    "5. Usar cupón\n",
    "\n",
    "\n",
    "veri info de los productos\n",
    "ver cantidad\n",
    "eliminar productor\n",
    "gestionar compra\n",
    "\n",
    "si alguien compra el dinero recaudado aumenta\n",
    "se puede cambiar el precio del producto\n"
   ]
  },
  {
   "cell_type": "markdown",
   "id": "3c8009d5",
   "metadata": {},
   "source": [
    "dinero acumulado\n",
    "\n",
    "si se acaban que diga que no hay más"
   ]
  },
  {
   "cell_type": "markdown",
   "id": "ec906d74",
   "metadata": {},
   "source": [
    "---\n",
    "\n",
    "-- Tabla para cada venta realizada\n",
    "CREATE TABLE ventas (\n",
    "    id INT PRIMARY KEY AUTO_INCREMENT,\n",
    "    fecha DATETIME NOT NULL,\n",
    "    total DOUBLE NOT NULL\n",
    ");\n",
    "\n",
    "-- Detalle de los productos en cada venta\n",
    "CREATE TABLE detalle_venta (\n",
    "    id INT PRIMARY KEY AUTO_INCREMENT,\n",
    "    venta_id INT,\n",
    "    producto_id INT,\n",
    "    cantidad INT,\n",
    "    precio_unitario DOUBLE,\n",
    "    subtotal DOUBLE,\n",
    "    FOREIGN KEY (venta_id) REFERENCES ventas(id),\n",
    "    FOREIGN KEY (producto_id) REFERENCES productos(id)\n",
    ");\n",
    "\n",
    " ¿Cómo calculás el dinero acumulado?\n",
    "Cuando hagas una venta en tu app Java, haces:\n",
    "\n",
    "Insertás en ventas la fecha y el total.\n",
    "\n",
    "Insertás en detalle_venta cada producto vendido, con cantidad y precio.\n",
    "\n",
    "Si querés saber cuánto ganaste en total, podés hacer un SUM:\n",
    "\n",
    "SELECT SUM(total) AS total_recaudado FROM ventas;\n",
    "\n",
    "String insertVenta = \"INSERT INTO ventas (fecha, total) VALUES (?, ?)\";\n",
    "PreparedStatement stmtVenta = conn.prepareStatement(insertVenta, Statement.RETURN_GENERATED_KEYS);\n",
    "// set fecha y total...\n",
    "stmtVenta.executeUpdate();\n",
    "// obtenés el ID generado para la venta"
   ]
  },
  {
   "cell_type": "markdown",
   "id": "5a29f184",
   "metadata": {},
   "source": [
    "que al salir muestre el dinero total generado en la tienda"
   ]
  },
  {
   "cell_type": "markdown",
   "metadata": {},
   "source": []
  },
  {
   "cell_type": "markdown",
   "id": "e760230c",
   "metadata": {},
   "source": [
    "## Ventas"
   ]
  },
  {
   "cell_type": "code",
   "execution_count": null,
   "metadata": {
    "vscode": {
     "languageId": "plaintext"
    }
   },
   "outputs": [],
   "source": [
    "CREATE TABLE ventas (\n",
    "    venta_id INT PRIMARY KEY NOT NULL,\n",
    "    descripcion TEXT,\n",
    "    total DOUBLE NOT NULL\n",
    ");"
   ]
  },
  {
   "cell_type": "markdown",
   "id": "17fe521e",
   "metadata": {},
   "source": [
    "si se vende la ultima unidad, se elimina"
   ]
  }
 ],
 "metadata": {
  "language_info": {
   "name": "python"
  }
 },
 "nbformat": 4,
 "nbformat_minor": 5
}
