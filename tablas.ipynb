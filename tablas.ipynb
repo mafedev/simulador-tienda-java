{
 "cells": [
  {
   "cell_type": "markdown",
   "id": "0a8cb045",
   "metadata": {},
   "source": [
    "# Tablas"
   ]
  },
  {
   "cell_type": "markdown",
   "id": "ee1422d2",
   "metadata": {},
   "source": [
    "### Categoría\n",
    "\n",
    "1. Intrumentos de cuerda\n",
    "    - guitarras\n",
    "    - bajos\n",
    "    - violines\n",
    "    - ukeleles\n",
    "2. Instrumentos de percusión\n",
    "    - Baterias\n",
    "    - Cajones\n",
    "    - Platillos\n",
    "    - Congas\n",
    "3. Teclados y Electrónicos\n",
    "    - Pianos digitles\n",
    "    - Teclados\n",
    "    - Accesorios\n",
    "4. Instrumentos de Viento\n",
    "    - Viento madera\n",
    "        - flautas\n",
    "        - Clarinetes\n",
    "        - Saxofones\n",
    "    - Viento metal\n",
    "        - Trompetas\n",
    "        - Trombones\n",
    "        - Tubas\n",
    "    - Accesorios\n",
    "5. Accesorios\n",
    "    - Calbes\n",
    "    - Fundas\n",
    "    - Afinadores\n",
    "    - Limpieza y mantenimiento\n",
    "6. Libros y Partituras\n",
    "    - Teoría musical\n",
    "\n",
    "    \n"
   ]
  },
  {
   "cell_type": "code",
   "execution_count": null,
   "id": "624838da",
   "metadata": {
    "vscode": {
     "languageId": "plaintext"
    }
   },
   "outputs": [],
   "source": [
    "CREATE TABLE categorias (\n",
    "    id INT PRIMARY KEY NOT NULL,\n",
    "    nombre VARCHAR(100) NOT NULL\n",
    ");"
   ]
  },
  {
   "cell_type": "code",
   "execution_count": null,
   "id": "009f834a",
   "metadata": {
    "vscode": {
     "languageId": "plaintext"
    }
   },
   "outputs": [],
   "source": [
    "INSERT INTO categorias  (id, nombre) VALUES\n",
    "(1, \"Cuerda\"),\n",
    "(2, \"Percusion\"),\n",
    "(3, \"Teclados\"),\n",
    "(4, \"Viento\"),\n",
    "(5, \"Accesorios\"),\n",
    "(6, \"Libros\");"
   ]
  },
  {
   "cell_type": "markdown",
   "id": "b49c1930",
   "metadata": {},
   "source": [
    "### Subcategorías"
   ]
  },
  {
   "cell_type": "code",
   "execution_count": null,
   "id": "2994f6d6",
   "metadata": {
    "vscode": {
     "languageId": "plaintext"
    }
   },
   "outputs": [],
   "source": [
    "CREATE TABLE subcategorias (\n",
    "    id INT PRIMARY KEY NOT NULL,\n",
    "    nombre VARCHAR(100) NOT NULL,\n",
    "    categoria_id INT NOT NULL,\n",
    "    FOREIGN KEY (categoria_id) REFERENCES categorias(id)\n",
    ");"
   ]
  },
  {
   "cell_type": "code",
   "execution_count": null,
   "id": "199d96e3",
   "metadata": {
    "vscode": {
     "languageId": "plaintext"
    }
   },
   "outputs": [],
   "source": [
    "INSERT INTO subcategorias (id, nombre, categoria_id) VALUES\n",
    "(1, \"Viento madera\", 4),\n",
    "(2, \"Viento metal\", 4),\n",
    "(3, \"Accesorios\", 4);"
   ]
  },
  {
   "cell_type": "markdown",
   "id": "bdfdf269",
   "metadata": {},
   "source": [
    "### Productos"
   ]
  },
  {
   "cell_type": "code",
   "execution_count": null,
   "id": "15513e6f",
   "metadata": {},
   "outputs": [],
   "source": [
    "CREATE TABLE productos (\n",
    "    id INT PRIMARY KEY NOT NULL,\n",
    "    nombre VARCHAR(100) NOT NULL,\n",
    "    descripcion TEXT,\n",
    "    categoria_id INT,\n",
    "    subcategoria_id INT,\n",
    "    precio DOUBLE,\n",
    "    catidad INT,\n",
    "    FOREIGN KEY (categoria_id) REFERENCES categorias(id)\n",
    "    FOREIGN KEY (subcategoria_id) REFERENCES subcategorias(id)\n",
    ");"
   ]
  },
  {
   "cell_type": "code",
   "execution_count": null,
   "id": "68cfe840",
   "metadata": {
    "vscode": {
     "languageId": "plaintext"
    }
   },
   "outputs": [],
   "source": [
    "INSERT INTO productos (id, nombre, descripcion, categoria_id, precio, cantidad) VALUES\n",
    "(1, \"Guitarra\", \"Guitarra clásica\", 1, 701.00, 20),\n",
    "(2, \"Piano\", \"Teclado eléctrico\", 3, 110.60, 15),\n",
    "(3, \"Ukelele\", \"\", 1, 1, 1),\n",
    "(4, \"Teclado\", \"Teclado eléctrico\", 3, 1, 40),\n",
    "(5, \"Saxofón\", \"Saxofon alto\", 4, 1, 10),\n",
    "(6, \"Violín\", \"\", 1, 1, 35),\n",
    "(7, \"Trompeta\", \"\", 4, 1, 20);"
   ]
  },
  {
   "cell_type": "markdown",
   "id": "16989707",
   "metadata": {},
   "source": [
    "### Clientes"
   ]
  },
  {
   "cell_type": "code",
   "execution_count": null,
   "id": "18867da2",
   "metadata": {
    "vscode": {
     "languageId": "plaintext"
    }
   },
   "outputs": [],
   "source": [
    "CREATE TABLE clientes (\n",
    "    cliente_id INT PRIMARY KEY NOT NULL,\n",
    "    nombre VARCHAR(100) NOT NULL,\n",
    "    correo VARCHAR(255)\n",
    ");"
   ]
  },
  {
   "cell_type": "markdown",
   "id": "53423ec9",
   "metadata": {},
   "source": [
    "### Pedidos"
   ]
  },
  {
   "cell_type": "code",
   "execution_count": null,
   "id": "1e08b6b1",
   "metadata": {
    "vscode": {
     "languageId": "plaintext"
    }
   },
   "outputs": [],
   "source": [
    "CREATE TABLE pedidos (\n",
    "    id INT PRIMARY KEY NOT NULL,\n",
    "    cliente_id INT,\n",
    "    fecha DATE,\n",
    "    estado BOOLEAN,\n",
    "    total DOUBLE,\n",
    "    FOREIGN KEY cliente_idq REFERENCES clientes(cliente_id)\n",
    ");"
   ]
  },
  {
   "cell_type": "markdown",
   "id": "eb99a636",
   "metadata": {},
   "source": [
    "---\n",
    "\n",
    "## Acciones menú\n",
    "\n",
    "1. Comprar producto\n",
    "2. Añadir producto\n",
    "3. Iniciar sesión\n",
    "4. Devolver producto\n",
    "5. Usar cupón\n",
    "\n",
    "\n",
    "veri info de los productos\n",
    "ver cantidad\n",
    "eliminar productor\n",
    "gestionar compra\n",
    "\n",
    "si alguien compra el dinero recaudado aumenta\n",
    "se puede cambiar el precio del producto\n"
   ]
  },
  {
   "cell_type": "markdown",
   "id": "3c8009d5",
   "metadata": {},
   "source": [
    "dinero acumulado\n",
    "\n",
    "si se acaban que diga que no hay más"
   ]
  },
  {
   "cell_type": "markdown",
   "id": "ec906d74",
   "metadata": {},
   "source": [
    "---\n",
    "\n",
    "-- Tabla para cada venta realizada\n",
    "CREATE TABLE ventas (\n",
    "    id INT PRIMARY KEY AUTO_INCREMENT,\n",
    "    fecha DATETIME NOT NULL,\n",
    "    total DOUBLE NOT NULL\n",
    ");\n",
    "\n",
    "-- Detalle de los productos en cada venta\n",
    "CREATE TABLE detalle_venta (\n",
    "    id INT PRIMARY KEY AUTO_INCREMENT,\n",
    "    venta_id INT,\n",
    "    producto_id INT,\n",
    "    cantidad INT,\n",
    "    precio_unitario DOUBLE,\n",
    "    subtotal DOUBLE,\n",
    "    FOREIGN KEY (venta_id) REFERENCES ventas(id),\n",
    "    FOREIGN KEY (producto_id) REFERENCES productos(id)\n",
    ");\n",
    "\n",
    " ¿Cómo calculás el dinero acumulado?\n",
    "Cuando hagas una venta en tu app Java, haces:\n",
    "\n",
    "Insertás en ventas la fecha y el total.\n",
    "\n",
    "Insertás en detalle_venta cada producto vendido, con cantidad y precio.\n",
    "\n",
    "Si querés saber cuánto ganaste en total, podés hacer un SUM:\n",
    "\n",
    "SELECT SUM(total) AS total_recaudado FROM ventas;\n",
    "\n",
    "String insertVenta = \"INSERT INTO ventas (fecha, total) VALUES (?, ?)\";\n",
    "PreparedStatement stmtVenta = conn.prepareStatement(insertVenta, Statement.RETURN_GENERATED_KEYS);\n",
    "// set fecha y total...\n",
    "stmtVenta.executeUpdate();\n",
    "// obtenés el ID generado para la venta"
   ]
  },
  {
   "cell_type": "markdown",
   "id": "5a29f184",
   "metadata": {},
   "source": [
    "que al salir muestre el dinero total generado en la tienda"
   ]
  },
  {
   "cell_type": "markdown",
   "metadata": {},
   "source": []
  },
  {
   "cell_type": "markdown",
   "id": "e760230c",
   "metadata": {},
   "source": [
    "## Ventas"
   ]
  },
  {
   "cell_type": "code",
   "execution_count": null,
   "metadata": {
    "vscode": {
     "languageId": "plaintext"
    }
   },
   "outputs": [],
   "source": [
    "CREATE TABLE ventas (\n",
    "    venta_id INT PRIMARY KEY NOT NULL,\n",
    "    descripcion TEXT,\n",
    "    total DOUBLE NOT NULL\n",
    ");"
   ]
  },
  {
   "cell_type": "markdown",
   "id": "17fe521e",
   "metadata": {},
   "source": [
    "si se vende la ultima unidad, se elimina"
   ]
  }
 ],
 "metadata": {
  "language_info": {
   "name": "python"
  }
 },
 "nbformat": 4,
 "nbformat_minor": 5
}
