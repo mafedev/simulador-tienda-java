{
 "cells": [
  {
   "cell_type": "markdown",
   "id": "ee1422d2",
   "metadata": {},
   "source": [
    "# Tablas\n",
    "\n",
    "---\n",
    "\n",
    "### 1. Categorías\n"
   ]
  },
  {
   "cell_type": "code",
   "execution_count": null,
   "id": "624838da",
   "metadata": {
    "vscode": {
     "languageId": "sql"
    }
   },
   "outputs": [],
   "source": [
    "CREATE TABLE categorias (\n",
    "    id INT PRIMARY KEY NOT NULL AUTO_INCREMENT,\n",
    "    nombre VARCHAR(100) NOT NULL\n",
    ");"
   ]
  },
  {
   "cell_type": "code",
   "execution_count": null,
   "id": "009f834a",
   "metadata": {
    "vscode": {
     "languageId": "sql"
    }
   },
   "outputs": [],
   "source": [
    "INSERT INTO categorias (id, nombre) VALUES\n",
    "(1, \"Instrumentos de cuerda\"),\n",
    "(2, \"Instrumentos de percusión\"),\n",
    "(3, \"Teclados y electrónicos\"),\n",
    "(4, \"Instrumentos de viento\"),\n",
    "(5, \"Accesorios\"),\n",
    "(6, \"Libros y partituras\");"
   ]
  },
  {
   "cell_type": "markdown",
   "id": "b49c1930",
   "metadata": {},
   "source": [
    "---\n",
    "\n",
    "### 2. Subcategorías"
   ]
  },
  {
   "cell_type": "code",
   "execution_count": null,
   "id": "2994f6d6",
   "metadata": {
    "vscode": {
     "languageId": "sql"
    }
   },
   "outputs": [],
   "source": [
    "CREATE TABLE subcategorias (\n",
    "    id INT PRIMARY KEY NOT NULL AUTO_INCREMENT,\n",
    "    nombre VARCHAR(100) NOT NULL,\n",
    "    categoria_id INT NOT NULL,\n",
    "    FOREIGN KEY (categoria_id) REFERENCES categorias(id)\n",
    ");"
   ]
  },
  {
   "cell_type": "code",
   "execution_count": null,
   "id": "199d96e3",
   "metadata": {
    "vscode": {
     "languageId": "sql"
    }
   },
   "outputs": [],
   "source": [
    "INSERT INTO subcategorias (id, nombre, categoria_id) VALUES\n",
    "(1, 'Cuerda frotada', 1),\n",
    "(2, 'Cuerda pulsada', 1),\n",
    "(3, 'Cuerda percutida', 1),\n",
    "(4, 'Percusión afinada', 2),\n",
    "(5, 'Percusión no afinada', 2),\n",
    "(6, 'Percusión corporal', 2),\n",
    "(7, 'Teclados', 3),\n",
    "(8, 'Sintetizadores', 3),\n",
    "(9, 'Controladores MIDI', 3),\n",
    "(10, 'Viento madera', 4),\n",
    "(11, 'Viento metal', 4),\n",
    "(12, 'Accesorios para cuerda', 5),\n",
    "(13, 'Accesorios para viento', 5),\n",
    "(14, 'Accesorios para percusión', 5),\n",
    "(15, 'Accesorios electrónicos', 5),\n",
    "(16, 'Partituras por instrumento', 6),\n",
    "(17, 'Métodos de aprendizaje', 6),\n",
    "(18, 'Teoría musical', 6);"
   ]
  },
  {
   "cell_type": "markdown",
   "id": "bdfdf269",
   "metadata": {},
   "source": [
    "---\n",
    "### 3. Productos"
   ]
  },
  {
   "cell_type": "code",
   "execution_count": null,
   "id": "589f29bb",
   "metadata": {
    "vscode": {
     "languageId": "sql"
    }
   },
   "outputs": [],
   "source": [
    "CREATE TABLE productos (\n",
    "    id INT PRIMARY KEY NOT NULL AUTO_INCREMENT,\n",
    "    nombre VARCHAR(100) NOT NULL,\n",
    "    descripcion TEXT,\n",
    "    categoria_id INT,\n",
    "    subcategoria_id INT,\n",
    "    precio DOUBLE,\n",
    "    cantidad INT,\n",
    "    FOREIGN KEY (categoria_id) REFERENCES categorias(id),\n",
    "    FOREIGN KEY (subcategoria_id) REFERENCES subcategorias(id)\n",
    ");"
   ]
  },
  {
   "cell_type": "code",
   "execution_count": null,
   "id": "68cfe840",
   "metadata": {
    "vscode": {
     "languageId": "sql"
    }
   },
   "outputs": [],
   "source": [
    "INSERT INTO productos (id, nombre, descripcion, categoria_id, subcategoria_id, precio, cantidad) VALUES\n",
    "(1, \"Guitarra clásica\", \"Guitarra clásica de madera con cuerdas de nailon\", 1, 2, 701.00, 20),\n",
    "(2, \"Bajo eléctrico\", \"Bajo de 4 cuerdas con ecualizador activo\", 1, 2, 450.00, 10),\n",
    "(3, \"Violín estudiantil\", \"Violín con estuche, arco y colofonia\", 1, 1, 250.00, 15),\n",
    "(4, \"Ukelele soprano\", \"Ukelele de caoba con funda incluida\", 1, 2, 85.00, 8),\n",
    "(5, \"Batería acústica\", \"Batería completa con platillos\", 2, 5, 999.99, 5),\n",
    "(6, \"Cajón flamenco\", \"Cajón de madera para percusión\", 2, 6, 150.00, 12),\n",
    "(7, \"Teclado yamaha\", \"Teclado de 61 teclas con sonidos integrados\", 3, 7, 320.00, 7),\n",
    "(8, \"Saxofón alto\", \"Saxofón de latón dorado con estuche\", 4, 10, 699.00, 4),\n",
    "(9, \"Trompeta plateada\", \"Trompeta profesional con pistones suaves\", 4, 11, 499.00, 6),\n",
    "(10, \"Cables de audio\", \"Pack de 3 cables de audio TRS\", 5, 15, 19.99, 30),\n",
    "(11, \"Teoría musical básica\", \"Libro introductorio a la teoría musical\", 6, 18, 22.00, 10);"
   ]
  },
  {
   "cell_type": "markdown",
   "id": "d268bc9c",
   "metadata": {},
   "source": [
    "---\n",
    "### 4. Ventas"
   ]
  },
  {
   "cell_type": "code",
   "execution_count": null,
   "id": "31256d95",
   "metadata": {
    "vscode": {
     "languageId": "sql"
    }
   },
   "outputs": [],
   "source": [
    "CREATE TABLE ventas (\n",
    "    id INT PRIMARY KEY AUTO_INCREMENT,\n",
    "    producto_id INT NOT NULL,\n",
    "    cantidad INT NOT NULL,\n",
    "    total DOUBLE NOT NULL,\n",
    "    devuelto BOOLEAN DEFAULT FALSE,\n",
    "    FOREIGN KEY (producto_id) REFERENCES productos(id)\n",
    ");"
   ]
  },
  {
   "cell_type": "markdown",
   "id": "1658d60a",
   "metadata": {},
   "source": [
    "---\n",
    "### 5. Devoluciones"
   ]
  },
  {
   "cell_type": "code",
   "execution_count": null,
   "id": "ac78a776",
   "metadata": {
    "vscode": {
     "languageId": "sql"
    }
   },
   "outputs": [],
   "source": [
    "CREATE TABLE devoluciones (\n",
    "    id INT PRIMARY KEY AUTO_INCREMENT,\n",
    "    venta_id INT NOT NULL,\n",
    "    producto_id INT NOT NULL,\n",
    "    motivo TEXT,\n",
    "    dinero_devuelto DOUBLE NOT NULL,\n",
    "    FOREIGN KEY (venta_id) REFERENCES ventas(id),\n",
    "    FOREIGN KEY (producto_id) REFERENCES productos(id)\n",
    ");"
   ]
  }
 ],
 "metadata": {
  "language_info": {
   "name": "python"
  }
 },
 "nbformat": 4,
 "nbformat_minor": 5
}
