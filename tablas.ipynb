{
 "cells": [
  {
   "cell_type": "markdown",
   "id": "0a8cb045",
   "metadata": {},
   "source": [
    "# Tablas"
   ]
  },
  {
   "cell_type": "markdown",
   "id": "ee1422d2",
   "metadata": {},
   "source": [
    "### Categoría\n",
    "\n",
    "1. Intrumentos de cuerda\n",
    "    - guitarras\n",
    "    - bajos\n",
    "    - violines\n",
    "    - ukeleles\n",
    "2. Instrumentos de percusión\n",
    "    - Baterias\n",
    "    - Cajones\n",
    "    - Platillos\n",
    "    - Congas\n",
    "3. Teclados y Electrónicos\n",
    "    - Pianos digitles\n",
    "    - Teclados\n",
    "    - Accesorios\n",
    "4. Instrumentos de Viento\n",
    "    - Viento madera\n",
    "        - flautas\n",
    "        - Clarinetes\n",
    "        - Saxofones\n",
    "    - Viento metal\n",
    "        - Trompetas\n",
    "        - Trombones\n",
    "        - Tubas\n",
    "    - Accesorios\n",
    "5. Accesorios\n",
    "    - Calbes\n",
    "    - Fundas\n",
    "    - Afinadores\n",
    "    - Limpieza y mantenimiento\n",
    "6. Libros y Partituras\n",
    "    - Teoría musical\n",
    "\n",
    "    \n"
   ]
  },
  {
   "cell_type": "code",
   "execution_count": null,
   "id": "624838da",
   "metadata": {
    "vscode": {
     "languageId": "plaintext"
    }
   },
   "outputs": [],
   "source": [
    "CREATE TABLE categorias (\n",
    "    id INT PRIMARY KEY NOT NULL,\n",
    "    nombre VARCHAR(100) NOT NULL\n",
    ");"
   ]
  },
  {
   "cell_type": "code",
   "execution_count": null,
   "id": "009f834a",
   "metadata": {
    "vscode": {
     "languageId": "plaintext"
    }
   },
   "outputs": [],
   "source": [
    "INSERT INTO categorias  (id, nombre) VALUES\n",
    "(1, \"Cuerda\"),\n",
    "(2, \"Percusion\"),\n",
    "(3, \"Teclados\"),\n",
    "(4, \"Viento\"),\n",
    "(5, \"Accesorios\"),\n",
    "(6, \"Libros\");"
   ]
  },
  {
   "cell_type": "markdown",
   "id": "b49c1930",
   "metadata": {},
   "source": [
    "### Subcategorías"
   ]
  },
  {
   "cell_type": "code",
   "execution_count": null,
   "id": "2994f6d6",
   "metadata": {
    "vscode": {
     "languageId": "plaintext"
    }
   },
   "outputs": [],
   "source": [
    "CREATE TABLE subcategorias (\n",
    "    id INT PRIMARY KEY NOT NULL,\n",
    "    nombre VARCHAR(100) NOT NULL,\n",
    "    categoria_id INT NOT NULL,\n",
    "    FOREIGN KEY (categoria_id) REFERENCES categorias(id)\n",
    ");"
   ]
  },
  {
   "cell_type": "code",
   "execution_count": null,
   "id": "199d96e3",
   "metadata": {
    "vscode": {
     "languageId": "plaintext"
    }
   },
   "outputs": [],
   "source": [
    "INSERT INTO subcategorias (id, nombre, categoria_id) VALUES\n",
    "(1, \"Viento madera\", 4),\n",
    "(2, \"Viento metal\", 4),\n",
    "(3, \"Accesorios\", 4);"
   ]
  },
  {
   "cell_type": "markdown",
   "id": "bdfdf269",
   "metadata": {},
   "source": [
    "### Productos"
   ]
  },
  {
   "cell_type": "markdown",
   "metadata": {},
   "source": [
    "CREATE TABLE productos (\n",
    "    id INT PRIMARY KEY NOT NULL,\n",
    "    nombre VARCHAR(100) NOT NULL,\n",
    "    descripcion TEXT,\n",
    "    categoria_id INT,\n",
    "    precio DOUBLE,\n",
    "    catidad INT,\n",
    "    FOREIGN KEY (categoria_id) REFERENCES categorias(id)\n",
    ");"
   ]
  },
  {
   "cell_type": "code",
   "execution_count": null,
   "id": "68cfe840",
   "metadata": {
    "vscode": {
     "languageId": "plaintext"
    }
   },
   "outputs": [],
   "source": [
    "INSERT INTO productos (id, descripcion, categoria_id, precio, cantidad) VALUES\n",
    "(1, \"Guitarra\", \"Guitarra clásica\", 1, 701.00, 20),\n",
    "(2, \"Piano\", \"\", 3, 110.60, 15),\n",
    "(3, \"\", \"\", 1, 1, 1),\n",
    "(4, \"\", \"\", 1, 1, 1),\n",
    "();"
   ]
  },
  {
   "cell_type": "markdown",
   "id": "16989707",
   "metadata": {},
   "source": [
    "### Clientes"
   ]
  },
  {
   "cell_type": "code",
   "execution_count": null,
   "id": "18867da2",
   "metadata": {
    "vscode": {
     "languageId": "plaintext"
    }
   },
   "outputs": [],
   "source": [
    "CREATE TABLE clientes (\n",
    "    cliente_id INT PRIMARY KEY NOT NULL,\n",
    "    nombre VARCHAR(100) NOT NULL,\n",
    "    correo VARCHAR(255)\n",
    ");"
   ]
  },
  {
   "cell_type": "code",
   "execution_count": null,
   "id": "5a8a5e8e",
   "metadata": {
    "vscode": {
     "languageId": "plaintext"
    }
   },
   "outputs": [],
   "source": []
  },
  {
   "cell_type": "markdown",
   "id": "53423ec9",
   "metadata": {},
   "source": [
    "### Pedidos"
   ]
  },
  {
   "cell_type": "code",
   "execution_count": null,
   "id": "1e08b6b1",
   "metadata": {
    "vscode": {
     "languageId": "plaintext"
    }
   },
   "outputs": [],
   "source": [
    "CREATE TABLE pedidos (\n",
    "    id INT PRIMARY KEY NOT NULL,\n",
    "    cliente_id INT,\n",
    "    fecha DATE,\n",
    "    estado BOOLEAN,\n",
    "    total DOUBLE,\n",
    "    FOREIGN KEY cliente_idq REFERENCES clientes(cliente_id)\n",
    ");"
   ]
  },
  {
   "cell_type": "markdown",
   "id": "eb99a636",
   "metadata": {},
   "source": [
    "---\n",
    "\n",
    "## Acciones menú\n",
    "\n",
    "1. Comprar producto\n",
    "2. Añadir producto\n",
    "3. Iniciar sesión\n",
    "4. Devolver producto\n",
    "5. Usar cupón\n"
   ]
  }
 ],
 "metadata": {
  "language_info": {
   "name": "python"
  }
 },
 "nbformat": 4,
 "nbformat_minor": 5
}
